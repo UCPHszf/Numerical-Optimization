{
 "cells": [
  {
   "cell_type": "markdown",
   "metadata": {},
   "source": [
    "# Case Studies\n",
    "## Function Definitions"
   ]
  },
  {
   "cell_type": "code",
   "execution_count": 23,
   "metadata": {},
   "outputs": [],
   "source": [
    "from typing import List\n",
    "import numpy as np\n",
    "\n",
    "\n",
    "def ellipsoid(x: List[float], alpha: int = 1000) -> float:\n",
    "    d = len(x)\n",
    "    return sum([np.power(alpha, (i - 1) / (d - 1)) * np.exp2(x[i]) for i in range(d)])\n",
    "    \n",
    "\n",
    "def rosenbrock_banana(x1: float, x2: float) -> float:\n",
    "    return np.exp2(1 - x1) + 100 * np.exp2(x2 - np.power(x1, 2))\n",
    "\n",
    "\n",
    "def log_ellipsoid(x: List[float], epsilon: float = 1e-4) -> float:\n",
    "    return np.log(epsilon + ellipsoid(x))\n",
    "\n",
    "\n",
    "def attractive_sector(x: List[float], q: float = 1e4) -> float:\n",
    "    d = len(x)\n",
    "    h = lambda x : np.log(1 + np.exp(q * x)) / q\n",
    "    return sum([np.exp2(h(x[i])) + 100 * np.exp2(h(x[i])) for i in range(d)])\n",
    "\n",
    "\n",
    "def sum_of_different_powers_function(x: List[float]) -> float:\n",
    "    d = len(x)\n",
    "    return sum([np.power(np.exp2(x[i]), 1 + (i - 1) / (d - 1)) for i in range(d)])"
   ]
  },
  {
   "cell_type": "code",
   "execution_count": 24,
   "metadata": {},
   "outputs": [
    {
     "data": {
      "image/png": "[encoded data removed]",
      "text/latex": [
       "$\\displaystyle 4.17912830198357$"
      ],
      "text/plain": [
       "4.179128301983566"
      ]
     },
     "execution_count": 24,
     "metadata": {},
     "output_type": "execute_result"
    }
   ],
   "source": [
    "log_ellipsoid([1, 1, 1])"
   ]
  },
  {
   "cell_type": "markdown",
   "metadata": {},
   "source": [
    "## Symbolic Computation"
   ]
  },
  {
   "cell_type": "code",
   "execution_count": 1,
   "metadata": {},
   "outputs": [],
   "source": [
    "import sympy"
   ]
  },
  {
   "cell_type": "code",
   "execution_count": 9,
   "metadata": {},
   "outputs": [
    {
     "data": {
      "image/png": "[encoded data removed]",
      "text/latex": [
       "$\\displaystyle y^{2} z^{2} e^{x y z}$"
      ],
      "text/plain": [
       " 2  2  x⋅y⋅z\n",
       "y ⋅z ⋅ℯ     "
      ]
     },
     "execution_count": 9,
     "metadata": {},
     "output_type": "execute_result"
    }
   ],
   "source": [
    "x, y, z = sympy.symbols('x y z')\n",
    "sympy.init_printing(use_unicode=True)\n",
    "\n",
    "expr = sympy.exp(x * y * z)\n",
    "sympy.diff(sympy.diff(expr, x), x)"
   ]
  },
  {
   "cell_type": "code",
   "execution_count": 12,
   "metadata": {},
   "outputs": [
    {
     "name": "stdout",
     "output_type": "stream",
     "text": [
      "Derivative(exp(x*y*z), x, (y, 2), (z, 4))\n"
     ]
    }
   ],
   "source": [
    "x, y, z = sympy.symbols('x y z')\n",
    "sympy.init_printing(use_unicode=True)\n",
    "\n",
    "expr = sympy.exp(x * y * z)\n",
    "deriv = sympy.Derivative(expr, x, y, y, z, 4)\n",
    "print(deriv)"
   ]
  },
  {
   "cell_type": "code",
   "execution_count": 11,
   "metadata": {},
   "outputs": [
    {
     "data": {
      "image/png": "[encoded data removed]",
      "text/latex": [
       "$\\displaystyle x^{3} y^{2} \\left(x^{3} y^{3} z^{3} + 14 x^{2} y^{2} z^{2} + 52 x y z + 48\\right) e^{x y z}$"
      ],
      "text/plain": [
       " 3  2 ⎛ 3  3  3       2  2  2                ⎞  x⋅y⋅z\n",
       "x ⋅y ⋅⎝x ⋅y ⋅z  + 14⋅x ⋅y ⋅z  + 52⋅x⋅y⋅z + 48⎠⋅ℯ     "
      ]
     },
     "execution_count": 11,
     "metadata": {},
     "output_type": "execute_result"
    }
   ],
   "source": [
    "deriv.doit()"
   ]
  },
  {
   "cell_type": "code",
   "execution_count": 19,
   "metadata": {},
   "outputs": [
    {
     "name": "stdout",
     "output_type": "stream",
     "text": [
      "exp(x*y*z)\n"
     ]
    },
    {
     "data": {
      "image/png": "[encoded data removed]",
      "text/latex": [
       "$\\displaystyle e^{12 z}$"
      ],
      "text/plain": [
       " 12⋅z\n",
       "ℯ    "
      ]
     },
     "execution_count": 19,
     "metadata": {},
     "output_type": "execute_result"
    }
   ],
   "source": [
    "print(expr)\n",
    "expr.subs({x: 3, y: 4})"
   ]
  },
  {
   "cell_type": "code",
   "execution_count": 31,
   "metadata": {},
   "outputs": [
    {
     "name": "stdout",
     "output_type": "stream",
     "text": [
      "⎡2  0⎤\n",
      "⎢    ⎥\n",
      "⎣0  0⎦\n"
     ]
    }
   ],
   "source": [
    "from sympy import Function, hessian, pprint\n",
    "from sympy.abc import x, y\n",
    "f = Function('f')(x, y)\n",
    "g1 = Function('g')(x, y)\n",
    "g2 = x ** 2 + 3 * y\n",
    "pprint(hessian(g2, (x, y)))"
   ]
  },
  {
   "cell_type": "code",
   "execution_count": 75,
   "metadata": {},
   "outputs": [
    {
     "data": {
      "image/png": "[encoded data removed]",
      "text/latex": [
       "$\\displaystyle \\sum_{i=1}^{d} \\alpha^{\\frac{i - 1}{d - 1}} {x}_{i}^{2}$"
      ],
      "text/plain": [
       "  d               \n",
       " ____             \n",
       " ╲                \n",
       "  ╲    i - 1      \n",
       "   ╲   ─────      \n",
       "   ╱   d - 1     2\n",
       "  ╱   α     ⋅x[i] \n",
       " ╱                \n",
       " ‾‾‾‾             \n",
       "i = 1             "
      ]
     },
     "execution_count": 75,
     "metadata": {},
     "output_type": "execute_result"
    }
   ],
   "source": [
    "from sympy import Sum\n",
    "from sympy.functions import exp\n",
    "\n",
    "i, j, d, alpha = sympy.symbols('i j d alpha')\n",
    "x = sympy.IndexedBase('x')\n",
    "expr = Sum(alpha ** ((i - 1) / (d - 1)) * x[i] ** 2, (i, 1, d))\n",
    "expr"
   ]
  },
  {
   "cell_type": "code",
   "execution_count": 93,
   "metadata": {},
   "outputs": [
    {
     "data": {
      "image/png": "[encoded data removed]",
      "text/latex": [
       "$\\displaystyle 8836092.54261839$"
      ],
      "text/plain": [
       "8836092.54261839"
      ]
     },
     "execution_count": 93,
     "metadata": {},
     "output_type": "execute_result"
    }
   ],
   "source": [
    "expr.subs({d: 9, alpha: 1000}).doit().subs([(x[i], i ** 2)  for i in range(10)]).evalf()"
   ]
  },
  {
   "cell_type": "code",
   "execution_count": 77,
   "metadata": {},
   "outputs": [
    {
     "data": {
      "image/png": "[encoded data removed]",
      "text/latex": [
       "$\\displaystyle \\left[\\begin{matrix}\\sum_{i=1}^{d} 2 \\alpha^{\\frac{i - 1}{d - 1}} & \\sum_{i=1}^{d} 2 \\alpha^{\\frac{i - 1}{d - 1}} \\delta_{i j}\\\\\\sum_{i=1}^{d} 2 \\alpha^{\\frac{i - 1}{d - 1}} \\delta_{i j} & \\sum_{i=1}^{d} 2 \\alpha^{\\frac{i - 1}{d - 1}} \\delta_{i j}\\end{matrix}\\right]$"
      ],
      "text/plain": [
       "⎡                       d                ⎤\n",
       "⎢    d                _____              ⎥\n",
       "⎢   ____              ╲                  ⎥\n",
       "⎢   ╲                  ╲                 ⎥\n",
       "⎢    ╲      i - 1       ╲      i - 1     ⎥\n",
       "⎢     ╲     ─────        ╲     ─────     ⎥\n",
       "⎢     ╱     d - 1        ╱     d - 1     ⎥\n",
       "⎢    ╱   2⋅α            ╱   2⋅α     ⋅δ   ⎥\n",
       "⎢   ╱                  ╱              i,j⎥\n",
       "⎢   ‾‾‾‾              ╱                  ⎥\n",
       "⎢  i = 1              ‾‾‾‾‾              ⎥\n",
       "⎢                     i = 1              ⎥\n",
       "⎢                                        ⎥\n",
       "⎢  d                    d                ⎥\n",
       "⎢_____                _____              ⎥\n",
       "⎢╲                    ╲                  ⎥\n",
       "⎢ ╲                    ╲                 ⎥\n",
       "⎢  ╲      i - 1         ╲      i - 1     ⎥\n",
       "⎢   ╲     ─────          ╲     ─────     ⎥\n",
       "⎢   ╱     d - 1          ╱     d - 1     ⎥\n",
       "⎢  ╱   2⋅α     ⋅δ       ╱   2⋅α     ⋅δ   ⎥\n",
       "⎢ ╱              i,j   ╱              i,j⎥\n",
       "⎢╱                    ╱                  ⎥\n",
       "⎢‾‾‾‾‾                ‾‾‾‾‾              ⎥\n",
       "⎣i = 1                i = 1              ⎦"
      ]
     },
     "execution_count": 77,
     "metadata": {},
     "output_type": "execute_result"
    }
   ],
   "source": [
    "hessian(expr, (x[i], x[j]))"
   ]
  },
  {
   "cell_type": "code",
   "execution_count": null,
   "metadata": {},
   "outputs": [],
   "source": [
    "def sym_ellipsoid(x: List[float], alpha: int = 1000) -> float:\n",
    "    d = len(x)\n",
    "    return sum([np.power(alpha, (i - 1) / (d - 1)) * np.exp2(x[i]) for i in range(d)])"
   ]
  },
  {
   "cell_type": "code",
   "execution_count": 84,
   "metadata": {},
   "outputs": [
    {
     "data": {
      "image/png": "[encoded data removed]",
      "text/latex": [
       "$\\displaystyle {A}_{0,0} + {A}_{1,1} + {A}_{2,2}$"
      ],
      "text/plain": [
       "A[0, 0] + A[1, 1] + A[2, 2]"
      ]
     },
     "execution_count": 84,
     "metadata": {},
     "output_type": "execute_result"
    }
   ],
   "source": [
    "import numpy\n",
    "A = sympy.IndexedBase('A')\n",
    "i = sympy.Symbol('i', integer=True)\n",
    "N = sympy.Symbol('N', integer=True)\n",
    "\n",
    "S = sympy.Sum(A[i], (i, 0, N))\n",
    "Trace = sympy.Sum(A[i, i], (i, 0, N))\n",
    "\n",
    "S.subs([(A, range(3)), (N, 2)]).doit()  # python3 range\n",
    "# result: 3\n",
    "\n",
    "S.subs([(A, [8, 16, 32]), (N, 2)]).doit()\n",
    "# result: A[0] + A[1] + A[2]\n",
    "\n",
    "S.subs([(A, numpy.arange(3)), (N, 2)]).doit()\n",
    "# result: A[0] + A[1] + A[2]\n",
    "\n",
    "Trace.subs([(A, numpy.diag([2, 4, 8])), (N, 2)]).doit()\n",
    "# result: A[0, 0] + A[1, 1] + A[2, 2]"
   ]
  },
  {
   "cell_type": "code",
   "execution_count": 85,
   "metadata": {},
   "outputs": [
    {
     "data": {
      "image/png": "[encoded data removed]",
      "text/latex": [
       "$\\displaystyle \\sum_{i=0}^{N} {A}_{i}$"
      ],
      "text/plain": [
       "  N       \n",
       " ___      \n",
       " ╲        \n",
       "  ╲       \n",
       "  ╱   A[i]\n",
       " ╱        \n",
       " ‾‾‾      \n",
       "i = 0     "
      ]
     },
     "execution_count": 85,
     "metadata": {},
     "output_type": "execute_result"
    }
   ],
   "source": [
    "S"
   ]
  },
  {
   "cell_type": "code",
   "execution_count": 87,
   "metadata": {},
   "outputs": [
    {
     "data": {
      "image/png": "[encoded data removed]",
      "text/latex": [
       "$\\displaystyle 5$"
      ],
      "text/plain": [
       "5"
      ]
     },
     "execution_count": 87,
     "metadata": {},
     "output_type": "execute_result"
    }
   ],
   "source": [
    "S.subs(N, 2).doit().subs([(A[i], i**2) for i in range(3)])   # 5"
   ]
  },
  {
   "cell_type": "markdown",
   "metadata": {},
   "source": [
    "## Numeric Computation"
   ]
  }
 ],
 "metadata": {
  "interpreter": {
   "hash": "916dbcbb3f70747c44a77c7bcd40155683ae19c65e1c03b4aa3499c5328201f1"
  },
  "kernelspec": {
   "display_name": "Python 3.8.10 64-bit",
   "language": "python",
   "name": "python3"
  },
  "language_info": {
   "codemirror_mode": {
    "name": "ipython",
    "version": 3
   },
   "file_extension": ".py",
   "mimetype": "text/x-python",
   "name": "python",
   "nbconvert_exporter": "python",
   "pygments_lexer": "ipython3",
   "version": "3.8.10"
  },
  "orig_nbformat": 4
 },
 "nbformat": 4,
 "nbformat_minor": 2
}
