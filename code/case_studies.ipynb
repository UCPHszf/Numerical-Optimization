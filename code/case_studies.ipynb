{
 "cells": [
  {
   "cell_type": "markdown",
   "metadata": {},
   "source": [
    "# Case Studies\n",
    "## 1 Function Definitions\n",
    "* If given `x`, the functions will try to calculate the actual results.\n",
    "* If not given `x`, the function will return the function in symbolic style."
   ]
  },
  {
   "cell_type": "code",
   "execution_count": 207,
   "metadata": {},
   "outputs": [],
   "source": [
    "from typing import List\n",
    "import numpy as np\n",
    "import sympy as sp\n",
    "from sympy import Sum\n",
    "from sympy.functions import log, exp\n",
    "\n",
    "\n",
    "def ellipsoid(x: List[float] = None, alpha: int = 1000) -> float:\n",
    "    if x is not None:\n",
    "        d = len(x)\n",
    "        return sum([np.power(alpha, (i - 1) / (d - 1)) * np.exp2(x[i - 1]) for i in range(1, d + 1)])\n",
    "    else:\n",
    "        i, d, alpha = sp.symbols('i d alpha')\n",
    "        x = sp.IndexedBase('x')\n",
    "        return Sum(alpha ** ((i - 1) / (d - 1)) * x[i] ** 2, (i, 1, d))\n",
    "    \n",
    "\n",
    "def rosenbrock_banana(x_1: float = None, x_2: float = None) -> float:\n",
    "    if x_1 and x_2:\n",
    "        return np.exp2(1 - x_1) + 100 * np.exp2(x_2 - np.power(x_1, 2))\n",
    "    else:\n",
    "        x_1, x_2 = sp.symbols('x_1 x_2')\n",
    "        return (1 - x_1) ** 2 + 100 * (x_2 - x_1 ** 2) ** 2\n",
    "\n",
    "\n",
    "def log_ellipsoid(x: List[float] = None, epsilon: float = 1e-4) -> float:\n",
    "    if x is not None:\n",
    "        return np.log(epsilon + ellipsoid(x))\n",
    "    else:\n",
    "        epsilon = sp.symbols('epsilon')\n",
    "        return log(epsilon + ellipsoid())\n",
    "\n",
    "\n",
    "def attractive_sector(x: List[float] = None, q: float = 1e4) -> float:\n",
    "    if x is not None:\n",
    "        d = len(x)\n",
    "        # h = lambda x : np.log(1 + np.exp(q * x)) / q\n",
    "        h = lambda x : (np.log(1 + np.exp(-abs(q * x))) + max(q * x, 0)) / q\n",
    "        return sum([np.exp2(h(x[i - 1])) + 100 * np.exp2(h(x[i - 1])) for i in range(1, d + 1)])\n",
    "    else:\n",
    "        i, d, q = sp.symbols('i d q')\n",
    "        h1, h2 = sp.symbols('h1 h2')\n",
    "        x = sp.IndexedBase('x')\n",
    "        return Sum(h1 ** 2 + 100 * h2 ** 2, (i, 1, d)).subs({h1: log(1 + exp(q * x[i])) / q, h2: log(1 + exp(q * - x[i])) / q })\n",
    "\n",
    "\n",
    "def sum_of_different_powers_function(x: List[float] = None) -> float:\n",
    "    if x is not None:\n",
    "        d = len(x)\n",
    "        return sum([np.power(np.exp2(x[i - 1]), 1 + (i - 1) / (d - 1)) for i in range(1, d + 1)])\n",
    "    else:\n",
    "        i, d = sp.symbols('i d')\n",
    "        x = sp.IndexedBase('x')\n",
    "        return Sum((x[i] ** 2) ** (1 + (i - 1) / (d - 1)) , (i, 1, d))"
   ]
  },
  {
   "cell_type": "markdown",
   "metadata": {},
   "source": [
    "## 2 Gradient\n",
    "First Derivate\n",
    "### 2.1 Definitons\n",
    "* The reason that there is a `_` before parameters is because we need to distinguish between input parameters and symbols.\n",
    "* If given `_x`, the functions will try to do first derivate in symbolic manner, and substitute the symbols with actual values after that.\n",
    "* If not given `_x` but given `_d`, the functions will give the results of gradient in symbolic style."
   ]
  },
  {
   "cell_type": "code",
   "execution_count": 208,
   "metadata": {},
   "outputs": [],
   "source": [
    "def ellipsoid_first_derivate(_x: List[float] = None, _d: int = None, _alpha: int = 1000) -> float:\n",
    "    i, d, alpha = sp.symbols('i d alpha')\n",
    "    x = sp.IndexedBase('x')\n",
    "    if _x is None:\n",
    "        if _d is None:\n",
    "            print(\"Error. You need to specify the dimension of the input or give the input vector.\")\n",
    "            return None\n",
    "        else:\n",
    "            return [ellipsoid().subs({d: _d, alpha: _alpha}).doit().diff(x[i]) for i in range(1, _d + 1)]\n",
    "    else:\n",
    "        _d = len(_x)\n",
    "        gradient = [0] * _d\n",
    "        for i in range(_d):\n",
    "            gradient[i] = ellipsoid().subs({d: _d, alpha: _alpha}).doit().diff(x[i]).subs([(x[i], _x[i - 1]) for i in range(1, _d + 1)])\n",
    "        return gradient\n",
    "\n",
    "def rosenbrock_banana_first_derivate(_x_1: float = None, _x_2: float = None) -> float:\n",
    "    x_1, x_2 = sp.symbols('x_1 x_2')\n",
    "    gradient = [rosenbrock_banana().diff(x_1), rosenbrock_banana().diff(x_2)]\n",
    "    if not (_x_1 and _x_2):\n",
    "        return gradient\n",
    "    else:\n",
    "        return [g.subs({x_1: _x_1, x_2: _x_2}) for g in gradient]\n",
    "\n",
    "\n",
    "def log_ellipsoid_first_derivate(_x: List[float] = None, _d: int = None, _epsilon: float = 1e-4) -> float:\n",
    "    d, epsilon = sp.symbols('d epsilon')\n",
    "    x = sp.IndexedBase('x')\n",
    "    if _x is None:\n",
    "        if _d is None:\n",
    "            print(\"Error. You need to specify the dimension of the input or give the input vector.\")\n",
    "            return None\n",
    "        else:\n",
    "            return [log_ellipsoid().subs({d: _d, epsilon: _epsilon}).doit().diff(x[i]) for i in range(1, _d + 1)]\n",
    "    else:\n",
    "        _d = len(_x)\n",
    "        gradient = [0] * _d\n",
    "        for i in range(_d):\n",
    "            gradient[i] = log_ellipsoid().subs({d: _d, epsilon: _epsilon}).doit().diff(x[i]).subs([(x[i], _x[i - 1]) for i in range(1, _d + 1)])\n",
    "        return gradient\n",
    "\n",
    "\n",
    "def attractive_sector_first_derivate(_x: List[float] = None, _d: int = None, _q: float = 1e4) -> float:\n",
    "    i, d, q = sp.symbols('i d q')\n",
    "    x = sp.IndexedBase('x')\n",
    "    if _x is None:\n",
    "        if _d is None:\n",
    "            print(\"Error. You need to specify the dimension of the input or give the input vector.\")\n",
    "            return None\n",
    "        else:\n",
    "            return [attractive_sector().subs({d: _d, q: _q}).doit().diff(x[i]) for i in range(1, _d + 1)]\n",
    "    else:\n",
    "        _d = len(_x)\n",
    "        gradient = [0] * _d\n",
    "        for i in range(_d):\n",
    "            gradient[i] = attractive_sector().subs({d: _d, q: _q}).doit().diff(x[i]).subs([(x[i], _x[i - 1]) for i in range(1, _d + 1)])\n",
    "        return gradient\n",
    "\n",
    "\n",
    "def sum_of_different_powers_function_first_derivate(_x: List[float] = None, _d: int = None) -> float:\n",
    "    i, d = sp.symbols('i d')\n",
    "    x = sp.IndexedBase('x')\n",
    "    if _x is None:\n",
    "        if _d is None:\n",
    "            print(\"Error. You need to specify the dimension of the input or give the input vector.\")\n",
    "            return None\n",
    "        else:\n",
    "            return [sum_of_different_powers_function().subs({d: _d}).doit().diff(x[i]) for i in range(1, _d + 1)]\n",
    "    else:\n",
    "        _d = len(_x)\n",
    "        gradient = [0] * _d\n",
    "        for i in range(_d):\n",
    "            gradient[i] = sum_of_different_powers_function().subs({d: _d}).doit().diff(x[i]).subs([(x[i], _x[i - 1]) for i in range(1, _d + 1)])\n",
    "        return gradient"
   ]
  },
  {
   "cell_type": "markdown",
   "metadata": {},
   "source": [
    "### 2.2 Demo"
   ]
  },
  {
   "cell_type": "code",
   "execution_count": 209,
   "metadata": {},
   "outputs": [],
   "source": [
    "x_input = [1, 1, 1]\n",
    "d_input = 3"
   ]
  },
  {
   "cell_type": "code",
   "execution_count": 210,
   "metadata": {},
   "outputs": [
    {
     "data": {
      "text/latex": [
       "$\\displaystyle \\sum_{i=1}^{d} \\alpha^{\\frac{i - 1}{d - 1}} {x}_{i}^{2}$"
      ],
      "text/plain": [
       "Sum(alpha**((i - 1)/(d - 1))*x[i]**2, (i, 1, d))"
      ]
     },
     "execution_count": 210,
     "metadata": {},
     "output_type": "execute_result"
    }
   ],
   "source": [
    "ellipsoid()"
   ]
  },
  {
   "cell_type": "code",
   "execution_count": 211,
   "metadata": {},
   "outputs": [
    {
     "name": "stdout",
     "output_type": "stream",
     "text": [
      "2065.2455532033678\n",
      "[2*x[1], 20*sqrt(10)*x[2], 2000*x[3]]\n",
      "[0, 2, 20*sqrt(10)]\n"
     ]
    }
   ],
   "source": [
    "print(ellipsoid(x=x_input))\n",
    "print(ellipsoid_first_derivate(_d=d_input))\n",
    "print(ellipsoid_first_derivate(_x=x_input))"
   ]
  },
  {
   "cell_type": "code",
   "execution_count": 212,
   "metadata": {},
   "outputs": [
    {
     "data": {
      "text/latex": [
       "$\\displaystyle \\left(1 - x_{1}\\right)^{2} + 100 \\left(- x_{1}^{2} + x_{2}\\right)^{2}$"
      ],
      "text/plain": [
       "(1 - x_1)**2 + 100*(-x_1**2 + x_2)**2"
      ]
     },
     "execution_count": 212,
     "metadata": {},
     "output_type": "execute_result"
    }
   ],
   "source": [
    "rosenbrock_banana()"
   ]
  },
  {
   "cell_type": "code",
   "execution_count": 213,
   "metadata": {},
   "outputs": [
    {
     "name": "stdout",
     "output_type": "stream",
     "text": [
      "101.0\n",
      "[-400*x_1*(-x_1**2 + x_2) + 2*x_1 - 2, -200*x_1**2 + 200*x_2]\n",
      "[0, 0]\n"
     ]
    }
   ],
   "source": [
    "print(rosenbrock_banana(x_1=1, x_2=1))\n",
    "print(rosenbrock_banana_first_derivate())\n",
    "print(rosenbrock_banana_first_derivate(1, 1))"
   ]
  },
  {
   "cell_type": "code",
   "execution_count": 214,
   "metadata": {},
   "outputs": [
    {
     "data": {
      "text/latex": [
       "$\\displaystyle \\log{\\left(\\epsilon + \\sum_{i=1}^{d} \\alpha^{\\frac{i - 1}{d - 1}} {x}_{i}^{2} \\right)}$"
      ],
      "text/plain": [
       "log(epsilon + Sum(alpha**((i - 1)/(d - 1))*x[i]**2, (i, 1, d)))"
      ]
     },
     "execution_count": 214,
     "metadata": {},
     "output_type": "execute_result"
    }
   ],
   "source": [
    "log_ellipsoid()"
   ]
  },
  {
   "cell_type": "code",
   "execution_count": 215,
   "metadata": {},
   "outputs": [
    {
     "name": "stdout",
     "output_type": "stream",
     "text": [
      "7.633004458708948\n",
      "[2*x[1]/(sqrt(alpha)*x[2]**2 + alpha*x[3]**2 + x[1]**2 + 0.0001), 2*sqrt(alpha)*x[2]/(sqrt(alpha)*x[2]**2 + alpha*x[3]**2 + x[1]**2 + 0.0001), 2*alpha*x[3]/(sqrt(alpha)*x[2]**2 + alpha*x[3]**2 + x[1]**2 + 0.0001)]\n",
      "[0, 2/(sqrt(alpha) + alpha + 1.0001), 2*sqrt(alpha)/(sqrt(alpha) + alpha + 1.0001)]\n"
     ]
    }
   ],
   "source": [
    "print(log_ellipsoid(x=x_input))\n",
    "print(log_ellipsoid_first_derivate(_d=d_input))\n",
    "print(log_ellipsoid_first_derivate(_x=x_input))"
   ]
  },
  {
   "cell_type": "code",
   "execution_count": 216,
   "metadata": {},
   "outputs": [
    {
     "data": {
      "text/latex": [
       "$\\displaystyle \\sum_{i=1}^{d} \\left(\\frac{100 \\log{\\left(1 + e^{- q {x}_{i}} \\right)}^{2}}{q^{2}} + \\frac{\\log{\\left(e^{q {x}_{i}} + 1 \\right)}^{2}}{q^{2}}\\right)$"
      ],
      "text/plain": [
       "Sum(100*log(1 + exp(-q*x[i]))**2/q**2 + log(exp(q*x[i]) + 1)**2/q**2, (i, 1, d))"
      ]
     },
     "execution_count": 216,
     "metadata": {},
     "output_type": "execute_result"
    }
   ],
   "source": [
    "attractive_sector()"
   ]
  },
  {
   "cell_type": "code",
   "execution_count": 217,
   "metadata": {},
   "outputs": [
    {
     "name": "stdout",
     "output_type": "stream",
     "text": [
      "606.0\n",
      "[0.0002*exp(10000.0*x[1])*log(exp(10000.0*x[1]) + 1)/(exp(10000.0*x[1]) + 1) - 0.02*exp(-10000.0*x[1])*log(1 + exp(-10000.0*x[1]))/(1 + exp(-10000.0*x[1])), 0.0002*exp(10000.0*x[2])*log(exp(10000.0*x[2]) + 1)/(exp(10000.0*x[2]) + 1) - 0.02*exp(-10000.0*x[2])*log(1 + exp(-10000.0*x[2]))/(1 + exp(-10000.0*x[2])), 0.0002*exp(10000.0*x[3])*log(exp(10000.0*x[3]) + 1)/(exp(10000.0*x[3]) + 1) - 0.02*exp(-10000.0*x[3])*log(1 + exp(-10000.0*x[3]))/(1 + exp(-10000.0*x[3]))]\n",
      "[0, 2.00000000000000, 2.00000000000000]\n"
     ]
    }
   ],
   "source": [
    "print(attractive_sector(x=x_input))\n",
    "print(attractive_sector_first_derivate(_d=d_input))\n",
    "print(attractive_sector_first_derivate(_x=x_input))"
   ]
  },
  {
   "cell_type": "code",
   "execution_count": 218,
   "metadata": {},
   "outputs": [
    {
     "data": {
      "text/latex": [
       "$\\displaystyle \\sum_{i=1}^{d} \\left({x}_{i}^{2}\\right)^{1 + \\frac{i - 1}{d - 1}}$"
      ],
      "text/plain": [
       "Sum((x[i]**2)**(1 + (i - 1)/(d - 1)), (i, 1, d))"
      ]
     },
     "execution_count": 218,
     "metadata": {},
     "output_type": "execute_result"
    }
   ],
   "source": [
    "sum_of_different_powers_function()"
   ]
  },
  {
   "cell_type": "code",
   "execution_count": 219,
   "metadata": {},
   "outputs": [
    {
     "name": "stdout",
     "output_type": "stream",
     "text": [
      "8.82842712474619\n",
      "[2*x[1], 3*(x[2]**2)**(3/2)/x[2], 4*x[3]**3]\n",
      "[0, 2, 3]\n"
     ]
    }
   ],
   "source": [
    "print(sum_of_different_powers_function(x=x_input))\n",
    "print(sum_of_different_powers_function_first_derivate(_d=d_input))\n",
    "print(sum_of_different_powers_function_first_derivate(_x=x_input))"
   ]
  },
  {
   "cell_type": "markdown",
   "metadata": {},
   "source": [
    "## 3 Hessian"
   ]
  },
  {
   "cell_type": "markdown",
   "metadata": {},
   "source": [
    "* `fpd` stands for `first partial derivate`."
   ]
  },
  {
   "cell_type": "code",
   "execution_count": 220,
   "metadata": {},
   "outputs": [],
   "source": [
    "def ellipsoid_second_derivate(_x: List[float] = None, _d: int = None, _alpha: int = 1000) -> float:\n",
    "    # i, d, alpha = sp.symbols('i d alpha')\n",
    "    x = sp.IndexedBase('x')\n",
    "    if _x is None:\n",
    "        if _d is None:\n",
    "            print(\"Error. You need to specify the dimension of the input or give the input vector.\")\n",
    "            return None\n",
    "        else:\n",
    "            return [[fpd.diff(x[i]) for i in range(1, _d + 1)] for fpd in ellipsoid_first_derivate(_d=_d, _alpha=_alpha)]\n",
    "    else:\n",
    "        _d = len(_x)\n",
    "        return [[fpd.diff(x[i]).subs([(x[i], _x[i - 1]) for i in range(1, _d + 1)]) for i in range(1, _d + 1)] for fpd in ellipsoid_first_derivate(_d=_d, _alpha=_alpha)]\n",
    "\n",
    "def rosenbrock_banana_second_derivate(_x_1: float = None, _x_2: float = None) -> float:\n",
    "    x_1, x_2 = sp.symbols('x_1 x_2')\n",
    "    if not (_x_1 and _x_2):\n",
    "        # fpd = rosenbrock_banana_first_derivate()\n",
    "        # return [[fpd[0].diff(x_1), fpd[0].diff(x_2)],\n",
    "        #         [fpd[1].diff(x_1), fpd[1].diff(x_2)]]\n",
    "        return [[fpd.diff(x_1), fpd.diff(x_2)] for fpd in rosenbrock_banana_first_derivate()]\n",
    "    else:\n",
    "        return [[fpd.diff(x_1).subs({x_1: _x_1, x_2: _x_2}), fpd.diff(x_2).subs({x_1: _x_1, x_2: _x_2})] for fpd in rosenbrock_banana_first_derivate()]\n",
    "\n",
    "\n",
    "def log_ellipsoid_second_derivate(_x: List[float] = None, _d: int = None, _epsilon: float = 1e-4) -> float:\n",
    "    # d, epsilon = sp.symbols('d epsilon')\n",
    "    x = sp.IndexedBase('x')\n",
    "    if _x is None:\n",
    "        if _d is None:\n",
    "            print(\"Error. You need to specify the dimension of the input or give the input vector.\")\n",
    "            return None\n",
    "        else:\n",
    "            return [[fpd.diff(x[i]) for i in range(1, _d + 1)] for fpd in log_ellipsoid_first_derivate(_d=_d, _epsilon=_epsilon)]\n",
    "    else:\n",
    "        _d = len(_x)\n",
    "        return [[fpd.diff(x[i]).subs([(x[i], _x[i - 1]) for i in range(1, _d + 1)]) for i in range(1, _d + 1)] for fpd in log_ellipsoid_first_derivate(_d=_d, _epsilon=_epsilon)]\n",
    "\n",
    "\n",
    "def attractive_sector_second_derivate(_x: List[float] = None, _d: int = None, _q: float = 1e4) -> float:\n",
    "    # i, d, q = sp.symbols('i d q')\n",
    "    x = sp.IndexedBase('x')\n",
    "    if _x is None:\n",
    "        if _d is None:\n",
    "            print(\"Error. You need to specify the dimension of the input or give the input vector.\")\n",
    "            return None\n",
    "        else:\n",
    "            return [[fpd.diff(x[i]) for i in range(1, _d + 1)] for fpd in attractive_sector_first_derivate(_d=_d, _q=_q)]\n",
    "    else:\n",
    "        _d = len(_x)\n",
    "        return [[fpd.diff(x[i]).subs([(x[i], _x[i - 1]) for i in range(1, _d + 1)]) for i in range(1, _d + 1)] for fpd in attractive_sector_first_derivate(_d=_d, _q=_q)]\n",
    "\n",
    "\n",
    "def sum_of_different_powers_function_second_derivate(_x: List[float] = None, _d: int = None) -> float:\n",
    "    # i, d = sp.symbols('i d')\n",
    "    x = sp.IndexedBase('x')\n",
    "    if _x is None:\n",
    "        if _d is None:\n",
    "            print(\"Error. You need to specify the dimension of the input or give the input vector.\")\n",
    "            return None\n",
    "        else:\n",
    "            return [[fpd.diff(x[i]) for i in range(1, _d + 1)] for fpd in sum_of_different_powers_function_first_derivate(_d=_d)]\n",
    "    else:\n",
    "        _d = len(_x)\n",
    "        return [[fpd.diff(x[i]).subs([(x[i], _x[i - 1]) for i in range(1, _d + 1)]) for i in range(1, _d + 1)] for fpd in sum_of_different_powers_function_first_derivate(_d=_d)]"
   ]
  },
  {
   "cell_type": "markdown",
   "metadata": {},
   "source": [
    "### 3.1 Demo"
   ]
  },
  {
   "cell_type": "code",
   "execution_count": 221,
   "metadata": {},
   "outputs": [
    {
     "name": "stdout",
     "output_type": "stream",
     "text": [
      "[[2, 0, 0], [0, 20*sqrt(10), 0], [0, 0, 2000]]\n",
      "[[2, 0, 0], [0, 20*sqrt(10), 0], [0, 0, 2000]]\n"
     ]
    }
   ],
   "source": [
    "print(ellipsoid_second_derivate(_d=d_input))\n",
    "print(ellipsoid_second_derivate(_x=x_input))"
   ]
  },
  {
   "cell_type": "code",
   "execution_count": 222,
   "metadata": {},
   "outputs": [
    {
     "name": "stdout",
     "output_type": "stream",
     "text": [
      "[[1200*x_1**2 - 400*x_2 + 2, -400*x_1], [-400*x_1, 200]]\n",
      "[[802, -400], [-400, 200]]\n"
     ]
    }
   ],
   "source": [
    "print(rosenbrock_banana_second_derivate())\n",
    "print(rosenbrock_banana_second_derivate(_x_1=1, _x_2=1))"
   ]
  },
  {
   "cell_type": "code",
   "execution_count": 223,
   "metadata": {},
   "outputs": [
    {
     "name": "stdout",
     "output_type": "stream",
     "text": [
      "[[2/(sqrt(alpha)*x[2]**2 + alpha*x[3]**2 + x[1]**2 + 0.0001) - 4*x[1]**2/(sqrt(alpha)*x[2]**2 + alpha*x[3]**2 + x[1]**2 + 0.0001)**2, -4*sqrt(alpha)*x[1]*x[2]/(sqrt(alpha)*x[2]**2 + alpha*x[3]**2 + x[1]**2 + 0.0001)**2, -4*alpha*x[1]*x[3]/(sqrt(alpha)*x[2]**2 + alpha*x[3]**2 + x[1]**2 + 0.0001)**2], [-4*sqrt(alpha)*x[1]*x[2]/(sqrt(alpha)*x[2]**2 + alpha*x[3]**2 + x[1]**2 + 0.0001)**2, 2*sqrt(alpha)/(sqrt(alpha)*x[2]**2 + alpha*x[3]**2 + x[1]**2 + 0.0001) - 4*alpha*x[2]**2/(sqrt(alpha)*x[2]**2 + alpha*x[3]**2 + x[1]**2 + 0.0001)**2, -4*alpha**(3/2)*x[2]*x[3]/(sqrt(alpha)*x[2]**2 + alpha*x[3]**2 + x[1]**2 + 0.0001)**2], [-4*alpha*x[1]*x[3]/(sqrt(alpha)*x[2]**2 + alpha*x[3]**2 + x[1]**2 + 0.0001)**2, -4*alpha**(3/2)*x[2]*x[3]/(sqrt(alpha)*x[2]**2 + alpha*x[3]**2 + x[1]**2 + 0.0001)**2, -4*alpha**2*x[3]**2/(sqrt(alpha)*x[2]**2 + alpha*x[3]**2 + x[1]**2 + 0.0001)**2 + 2*alpha/(sqrt(alpha)*x[2]**2 + alpha*x[3]**2 + x[1]**2 + 0.0001)]]\n",
      "[[2/(sqrt(alpha) + alpha + 1.0001) - 3.999200119984/(0.999900009999*sqrt(alpha) + 0.999900009999*alpha + 1)**2, -3.999200119984*sqrt(alpha)/(0.999900009999*sqrt(alpha) + 0.999900009999*alpha + 1)**2, -3.999200119984*alpha/(0.999900009999*sqrt(alpha) + 0.999900009999*alpha + 1)**2], [-3.999200119984*sqrt(alpha)/(0.999900009999*sqrt(alpha) + 0.999900009999*alpha + 1)**2, 2*sqrt(alpha)/(sqrt(alpha) + alpha + 1.0001) - 3.999200119984*alpha/(0.999900009999*sqrt(alpha) + 0.999900009999*alpha + 1)**2, -3.999200119984*alpha**(3/2)/(0.999900009999*sqrt(alpha) + 0.999900009999*alpha + 1)**2], [-3.999200119984*alpha/(0.999900009999*sqrt(alpha) + 0.999900009999*alpha + 1)**2, -3.999200119984*alpha**(3/2)/(0.999900009999*sqrt(alpha) + 0.999900009999*alpha + 1)**2, -3.999200119984*alpha**2/(0.999900009999*sqrt(alpha) + 0.999900009999*alpha + 1)**2 + 2*alpha/(sqrt(alpha) + alpha + 1.0001)]]\n"
     ]
    }
   ],
   "source": [
    "print(log_ellipsoid_second_derivate(_d=d_input))\n",
    "print(log_ellipsoid_second_derivate(_x=x_input))"
   ]
  },
  {
   "cell_type": "code",
   "execution_count": 224,
   "metadata": {},
   "outputs": [
    {
     "name": "stdout",
     "output_type": "stream",
     "text": [
      "[[2.0*exp(10000.0*x[1])*log(exp(10000.0*x[1]) + 1)/(exp(10000.0*x[1]) + 1) - 2.0*exp(20000.0*x[1])*log(exp(10000.0*x[1]) + 1)/(exp(10000.0*x[1]) + 1)**2 + 2.0*exp(20000.0*x[1])/(exp(10000.0*x[1]) + 1)**2 + 200.0*exp(-10000.0*x[1])*log(1 + exp(-10000.0*x[1]))/(1 + exp(-10000.0*x[1])) - 200.0*exp(-20000.0*x[1])*log(1 + exp(-10000.0*x[1]))/(1 + exp(-10000.0*x[1]))**2 + 200.0*exp(-20000.0*x[1])/(1 + exp(-10000.0*x[1]))**2, 0, 0], [0, 2.0*exp(10000.0*x[2])*log(exp(10000.0*x[2]) + 1)/(exp(10000.0*x[2]) + 1) - 2.0*exp(20000.0*x[2])*log(exp(10000.0*x[2]) + 1)/(exp(10000.0*x[2]) + 1)**2 + 2.0*exp(20000.0*x[2])/(exp(10000.0*x[2]) + 1)**2 + 200.0*exp(-10000.0*x[2])*log(1 + exp(-10000.0*x[2]))/(1 + exp(-10000.0*x[2])) - 200.0*exp(-20000.0*x[2])*log(1 + exp(-10000.0*x[2]))/(1 + exp(-10000.0*x[2]))**2 + 200.0*exp(-20000.0*x[2])/(1 + exp(-10000.0*x[2]))**2, 0], [0, 0, 2.0*exp(10000.0*x[3])*log(exp(10000.0*x[3]) + 1)/(exp(10000.0*x[3]) + 1) - 2.0*exp(20000.0*x[3])*log(exp(10000.0*x[3]) + 1)/(exp(10000.0*x[3]) + 1)**2 + 2.0*exp(20000.0*x[3])/(exp(10000.0*x[3]) + 1)**2 + 200.0*exp(-10000.0*x[3])*log(1 + exp(-10000.0*x[3]))/(1 + exp(-10000.0*x[3])) - 200.0*exp(-20000.0*x[3])*log(1 + exp(-10000.0*x[3]))/(1 + exp(-10000.0*x[3]))**2 + 200.0*exp(-20000.0*x[3])/(1 + exp(-10000.0*x[3]))**2]]\n",
      "[[2.00000000000364, 0, 0], [0, 2.00000000000364, 0], [0, 0, 2.00000000000364]]\n"
     ]
    }
   ],
   "source": [
    "print(attractive_sector_second_derivate(_d=d_input))\n",
    "print(attractive_sector_second_derivate(_x=x_input))"
   ]
  },
  {
   "cell_type": "code",
   "execution_count": 225,
   "metadata": {},
   "outputs": [
    {
     "name": "stdout",
     "output_type": "stream",
     "text": [
      "[[2, 0, 0], [0, 6*(x[2]**2)**(3/2)/x[2]**2, 0], [0, 0, 12*x[3]**2]]\n",
      "[[2, 0, 0], [0, 6, 0], [0, 0, 12]]\n"
     ]
    }
   ],
   "source": [
    "print(sum_of_different_powers_function_second_derivate(_d=d_input))\n",
    "print(sum_of_different_powers_function_second_derivate(_x=x_input))"
   ]
  },
  {
   "cell_type": "markdown",
   "metadata": {},
   "source": [
    "## 4 Numeric Computation\n",
    "Before we use `sympy` to perform symbolic computation, and here we try to use numeric computation to verify the results."
   ]
  }
 ],
 "metadata": {
  "interpreter": {
   "hash": "916dbcbb3f70747c44a77c7bcd40155683ae19c65e1c03b4aa3499c5328201f1"
  },
  "kernelspec": {
   "display_name": "Python 3.8.10 64-bit",
   "language": "python",
   "name": "python3"
  },
  "language_info": {
   "codemirror_mode": {
    "name": "ipython",
    "version": 3
   },
   "file_extension": ".py",
   "mimetype": "text/x-python",
   "name": "python",
   "nbconvert_exporter": "python",
   "pygments_lexer": "ipython3",
   "version": "3.8.10"
  },
  "orig_nbformat": 4
 },
 "nbformat": 4,
 "nbformat_minor": 2
}
