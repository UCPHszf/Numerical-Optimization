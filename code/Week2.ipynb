{
 "cells": [
  {
   "cell_type": "code",
   "source": [
    "!pip3 install numdifftools"
   ],
   "metadata": {
    "colab": {
     "base_uri": "https://localhost:8080/"
    },
    "id": "EkdFS3Hf-0Oe",
    "executionInfo": {
     "status": "ok",
     "timestamp": 1645006011088,
     "user_tz": -60,
     "elapsed": 3725,
     "user": {
      "displayName": "Yihe Zhang",
      "photoUrl": "https://lh3.googleusercontent.com/a-/AOh14Gh7f3eAfi5531JWbdXKEH7pb2Y7oiPEMF8aoWdsRQ=s64",
      "userId": "02644340796652609725"
     }
    },
    "outputId": "d77d0d03-3bfb-4afc-d1fe-6e42ace5a6d8"
   },
   "id": "EkdFS3Hf-0Oe",
   "execution_count": null,
   "outputs": [
    {
     "output_type": "stream",
     "name": "stdout",
     "text": [
      "Requirement already satisfied: numdifftools in /usr/local/lib/python3.7/dist-packages (0.9.40)\n",
      "Requirement already satisfied: scipy>=0.8 in /usr/local/lib/python3.7/dist-packages (from numdifftools) (1.4.1)\n",
      "Requirement already satisfied: numpy>=1.9 in /usr/local/lib/python3.7/dist-packages (from numdifftools) (1.21.5)\n",
      "Requirement already satisfied: algopy>=0.4 in /usr/local/lib/python3.7/dist-packages (from numdifftools) (0.5.7)\n",
      "Requirement already satisfied: statsmodels>=0.6 in /usr/local/lib/python3.7/dist-packages (from numdifftools) (0.10.2)\n",
      "Requirement already satisfied: patsy>=0.4.0 in /usr/local/lib/python3.7/dist-packages (from statsmodels>=0.6->numdifftools) (0.5.2)\n",
      "Requirement already satisfied: pandas>=0.19 in /usr/local/lib/python3.7/dist-packages (from statsmodels>=0.6->numdifftools) (1.3.5)\n",
      "Requirement already satisfied: pytz>=2017.3 in /usr/local/lib/python3.7/dist-packages (from pandas>=0.19->statsmodels>=0.6->numdifftools) (2018.9)\n",
      "Requirement already satisfied: python-dateutil>=2.7.3 in /usr/local/lib/python3.7/dist-packages (from pandas>=0.19->statsmodels>=0.6->numdifftools) (2.8.2)\n",
      "Requirement already satisfied: six in /usr/local/lib/python3.7/dist-packages (from patsy>=0.4.0->statsmodels>=0.6->numdifftools) (1.15.0)\n"
     ]
    }
   ]
  },
  {
   "cell_type": "code",
   "execution_count": 1,
   "id": "7c13da8c",
   "metadata": {
    "id": "7c13da8c",
    "executionInfo": {
     "status": "ok",
     "timestamp": 1645021741477,
     "user_tz": -60,
     "elapsed": 293,
     "user": {
      "displayName": "Yihe Zhang",
      "photoUrl": "https://lh3.googleusercontent.com/a-/AOh14Gh7f3eAfi5531JWbdXKEH7pb2Y7oiPEMF8aoWdsRQ=s64",
      "userId": "02644340796652609725"
     }
    }
   },
   "outputs": [],
   "source": [
    "import numpy as np\n",
    "import numdifftools as nd\n",
    "from scipy import optimize\n",
    "import matplotlib.pyplot as plt\n",
    "import time"
   ]
  },
  {
   "cell_type": "markdown",
   "source": [
    "# The Ellipsoid Function"
   ],
   "metadata": {
    "id": "nKhi77Ud_BOI"
   },
   "id": "nKhi77Ud_BOI"
  },
  {
   "cell_type": "code",
   "execution_count": 2,
   "id": "a50b0605",
   "metadata": {
    "id": "a50b0605"
   },
   "outputs": [],
   "source": [
    "def f1(x, alpha=1000):  # x is list\n",
    "    \"\"\"The Ellipsoid function\"\"\"\n",
    "    result = 0\n",
    "    for i in range(1, len(x) + 1):\n",
    "        exponent = (i - 1) / (len(x) - 1)\n",
    "        result += (alpha ** exponent) * x[i - 1] ** 2\n",
    "    return result\n",
    "\n",
    "\n",
    "def f1_gradient(x, alpha=1000):\n",
    "    \"\"\"Gradient of the Ellipsoid function\"\"\"\n",
    "    return nd.Gradient(f1)(x, alpha)\n",
    "\n",
    "\n",
    "def f1_hessian(x, alpha=1000):\n",
    "    \"\"\"Gradient of the Ellipsoid function\"\"\"\n",
    "    return nd.Hessian(f1)(x, alpha)\n"
   ]
  },
  {
   "cell_type": "code",
   "execution_count": 3,
   "id": "ef341c7d",
   "metadata": {
    "colab": {
     "base_uri": "https://localhost:8080/"
    },
    "id": "ef341c7d",
    "executionInfo": {
     "status": "ok",
     "timestamp": 1645006011089,
     "user_tz": -60,
     "elapsed": 11,
     "user": {
      "displayName": "Yihe Zhang",
      "photoUrl": "https://lh3.googleusercontent.com/a-/AOh14Gh7f3eAfi5531JWbdXKEH7pb2Y7oiPEMF8aoWdsRQ=s64",
      "userId": "02644340796652609725"
     }
    },
    "outputId": "074a2d7d-0b21-4578-b26e-59c8a1704490"
   },
   "outputs": [
    {
     "data": {
      "text/plain": "array([[   2.       ,    0.       ,    0.       ],\n       [   0.       ,   63.2455532,    0.       ],\n       [   0.       ,    0.       , 2000.       ]])"
     },
     "execution_count": 3,
     "metadata": {},
     "output_type": "execute_result"
    }
   ],
   "source": [
    "f1_hessian([1, 2, 3])"
   ]
  },
  {
   "cell_type": "code",
   "execution_count": 12,
   "outputs": [
    {
     "name": "stdout",
     "output_type": "stream",
     "text": [
      "0.0\n",
      "1.001\n",
      "0.0010993954433008424\n",
      "2.0\n"
     ]
    }
   ],
   "source": [
    "f1([1, 1])"
   ],
   "metadata": {
    "collapsed": false,
    "pycharm": {
     "name": "#%%\n"
    }
   }
  },
  {
   "cell_type": "code",
   "execution_count": null,
   "id": "cf9c58bc",
   "metadata": {
    "id": "cf9c58bc"
   },
   "outputs": [],
   "source": [
    "h, p = 0.1, np.array([1, 1, 1])\n",
    "x = np.array([1, 1, 1])\n",
    "#print(f1(x+p)-(f1(x)+np.matmul(f1_gradient(x+h*p).T,p)))\n",
    "\n",
    "\n",
    "h_values = np.linspace(0, 1, 9)\n",
    "#for i in range(len(h_values)):\n",
    "#    print(f1(x+p)-(f1(x)+np.matmul(f1_gradient(x+h_values[i]*p).T,p)),h_values[i])"
   ]
  },
  {
   "cell_type": "code",
   "execution_count": null,
   "id": "7d92f639",
   "metadata": {
    "colab": {
     "base_uri": "https://localhost:8080/"
    },
    "id": "7d92f639",
    "executionInfo": {
     "status": "ok",
     "timestamp": 1645006011089,
     "user_tz": -60,
     "elapsed": 9,
     "user": {
      "displayName": "Yihe Zhang",
      "photoUrl": "https://lh3.googleusercontent.com/a-/AOh14Gh7f3eAfi5531JWbdXKEH7pb2Y7oiPEMF8aoWdsRQ=s64",
      "userId": "02644340796652609725"
     }
    },
    "outputId": "565e80b7-d69f-4d51-be82-d1f2adad080c"
   },
   "outputs": [
    {
     "output_type": "stream",
     "name": "stdout",
     "text": [
      "596.1850380423209\n",
      "529.9488803158188\n",
      "463.7127225893166\n",
      "397.4765648628152\n",
      "331.24040713631325\n",
      "265.0042494098114\n",
      "198.76809168330936\n",
      "132.5319339568076\n",
      "66.29577623030542\n",
      "0.05961850260744255\n"
     ]
    }
   ],
   "source": [
    "\n",
    "for i in np.linspace(1, 0.0001, 10):\n",
    "    p = np.array([i, i, i])\n",
    "    print((f1(x + p) - f1(x) - np.dot(f1_gradient(x), p)) / np.linalg.norm(p))"
   ]
  },
  {
   "cell_type": "markdown",
   "id": "2818be03",
   "metadata": {
    "id": "2818be03"
   },
   "source": [
    "# The Rosenbrock Banana Function"
   ]
  },
  {
   "cell_type": "code",
   "execution_count": null,
   "id": "79c398ae",
   "metadata": {
    "id": "79c398ae"
   },
   "outputs": [],
   "source": [
    "def f2(x):  # x list with length 2\n",
    "    \"\"\"The Rosenbrock Banana Function\"\"\"\n",
    "    return ((1 - x[0]) ** 2) + (100 * (x[1] - x[0] ** 2) ** 2)\n",
    "\n",
    "\n",
    "def f2_gradient(x):  # x list with length 2\n",
    "    \"\"\"Gradient of the Rosenbrock Banana Function\"\"\"\n",
    "    return nd.Gradient(f2)(x)\n",
    "\n",
    "\n",
    "def f2_hessian(x):\n",
    "    \"\"\"Hessian Matrix of the Rosenbrock Banana Function\"\"\"\n",
    "    return nd.Hessian(f2)([x[0], x[1]])\n"
   ]
  },
  {
   "cell_type": "code",
   "execution_count": null,
   "id": "b7ef55a4",
   "metadata": {
    "scrolled": false,
    "colab": {
     "base_uri": "https://localhost:8080/"
    },
    "id": "b7ef55a4",
    "executionInfo": {
     "status": "ok",
     "timestamp": 1645006013465,
     "user_tz": -60,
     "elapsed": 5,
     "user": {
      "displayName": "Yihe Zhang",
      "photoUrl": "https://lh3.googleusercontent.com/a-/AOh14Gh7f3eAfi5531JWbdXKEH7pb2Y7oiPEMF8aoWdsRQ=s64",
      "userId": "02644340796652609725"
     }
    },
    "outputId": "4df64dc4-e4fc-4af0-f8e3-96a6fea18534"
   },
   "outputs": [
    {
     "output_type": "stream",
     "name": "stdout",
     "text": [
      "[0. 0.]\n",
      "(array([1.00160064e+03, 3.99360767e-01]), array([[ 0.89478425,  0.44649877],\n",
      "       [-0.44649877,  0.89478425]]))\n"
     ]
    }
   ],
   "source": [
    "print(f2_gradient([1, 1]))  #equals 0, hence minimizer\n",
    "print(np.linalg.eig(f2_hessian([1, 1])))  #eigenvalues of hessian are positive, hence minimizer"
   ]
  },
  {
   "cell_type": "code",
   "execution_count": null,
   "id": "8bc87d64",
   "metadata": {
    "colab": {
     "base_uri": "https://localhost:8080/"
    },
    "id": "8bc87d64",
    "executionInfo": {
     "status": "ok",
     "timestamp": 1645006013839,
     "user_tz": -60,
     "elapsed": 378,
     "user": {
      "displayName": "Yihe Zhang",
      "photoUrl": "https://lh3.googleusercontent.com/a-/AOh14Gh7f3eAfi5531JWbdXKEH7pb2Y7oiPEMF8aoWdsRQ=s64",
      "userId": "02644340796652609725"
     }
    },
    "outputId": "5d43c7e9-02b7-47ed-f6b9-81809f903551"
   },
   "outputs": [
    {
     "output_type": "stream",
     "name": "stdout",
     "text": [
      "1273.4993129169711\n",
      "1076.9240915645414\n",
      "895.4774053857511\n",
      "728.577448067543\n",
      "575.6424132968609\n",
      "436.0904947606462\n",
      "309.3398861458427\n",
      "194.80878113939042\n",
      "91.9153734282368\n",
      "0.07785670025182911\n"
     ]
    }
   ],
   "source": [
    "x = np.array([2, 3])\n",
    "for i in np.linspace(1, 0.0001, 10):\n",
    "    p = np.array([i, i])\n",
    "    print((f2(x + p) - f2(x) - np.dot(f2_gradient(x), p)) / np.linalg.norm(p))"
   ]
  },
  {
   "cell_type": "code",
   "execution_count": null,
   "id": "3cf8cda7",
   "metadata": {
    "colab": {
     "base_uri": "https://localhost:8080/"
    },
    "id": "3cf8cda7",
    "executionInfo": {
     "status": "ok",
     "timestamp": 1645006013839,
     "user_tz": -60,
     "elapsed": 5,
     "user": {
      "displayName": "Yihe Zhang",
      "photoUrl": "https://lh3.googleusercontent.com/a-/AOh14Gh7f3eAfi5531JWbdXKEH7pb2Y7oiPEMF8aoWdsRQ=s64",
      "userId": "02644340796652609725"
     }
    },
    "outputId": "ab7bc7c4-65d9-421c-f3c7-1092a30de54e"
   },
   "outputs": [
    {
     "output_type": "stream",
     "name": "stdout",
     "text": [
      "0.05657137610207417\n",
      "0.050913979519815675\n",
      "0.04525664542863541\n",
      "0.03959936328704826\n",
      "0.033942142322279635\n",
      "0.028284982261504964\n",
      "0.022627867486432782\n",
      "0.01697082452523078\n",
      "0.011313826447820308\n",
      "0.005656863205486963\n"
     ]
    }
   ],
   "source": [
    "x = np.array([1, 2])\n",
    "for i in np.linspace(0.0001, 0.00001, 10):\n",
    "    p = np.array([i, i])\n",
    "    print((f2_gradient(x + p)[0] - f2_gradient(x)[0] - np.dot(f2_hessian(x)[0][:], p)) / np.linalg.norm(p))"
   ]
  },
  {
   "cell_type": "markdown",
   "source": [
    "## Benchmark"
   ],
   "metadata": {
    "id": "Uc7Cgf1SGqBp"
   },
   "id": "Uc7Cgf1SGqBp"
  },
  {
   "cell_type": "markdown",
   "id": "8d8a489b",
   "metadata": {
    "id": "8d8a489b"
   },
   "source": [
    "# The Log-Ellipsoid Function"
   ]
  },
  {
   "cell_type": "code",
   "execution_count": null,
   "id": "75266d80",
   "metadata": {
    "id": "75266d80"
   },
   "outputs": [],
   "source": [
    "def f3(x, alpha=1000, epsilon=10 ** (-4)):  # x is list\n",
    "    \"\"\"The Log-Ellipsoid Function\"\"\"\n",
    "    return np.log(epsilon + f1(x, alpha))\n",
    "\n",
    "\n",
    "def f3_gradient(x, alpha=1000, epsilon=10 ** (-4)):\n",
    "    \"\"\"Gradient of the Log-Ellipsoid Function\"\"\"\n",
    "    return nd.Gradient(f3)(x, alpha, epsilon)\n",
    "\n",
    "\n",
    "def f3_hessian(x, alpha, epsilon=10 ** (-4)):\n",
    "    \"\"\"Gradient of the Log-Ellipsoid Function\"\"\"\n",
    "    return nd.Hessian(f3)(x, alpha, epsilon)"
   ]
  },
  {
   "cell_type": "code",
   "execution_count": null,
   "id": "70ee2907",
   "metadata": {
    "colab": {
     "base_uri": "https://localhost:8080/"
    },
    "id": "70ee2907",
    "executionInfo": {
     "status": "ok",
     "timestamp": 1645006015513,
     "user_tz": -60,
     "elapsed": 9,
     "user": {
      "displayName": "Yihe Zhang",
      "photoUrl": "https://lh3.googleusercontent.com/a-/AOh14Gh7f3eAfi5531JWbdXKEH7pb2Y7oiPEMF8aoWdsRQ=s64",
      "userId": "02644340796652609725"
     }
    },
    "outputId": "b8693e41-d3dd-4474-ed1c-a88a4e651b90"
   },
   "outputs": [
    {
     "output_type": "stream",
     "name": "stdout",
     "text": [
      "-0.05326474165545317\n",
      "-0.048286103761021666\n",
      "-0.04310959438241094\n",
      "-0.03772171990611747\n",
      "-0.03210764847564421\n",
      "-0.02625103277605129\n",
      "-0.02013380306365662\n",
      "-0.013735924321231807\n",
      "-0.007035109914809797\n",
      "-6.482185438334112e-06\n"
     ]
    }
   ],
   "source": [
    "x = np.array([1, 2, 3])\n",
    "for i in np.linspace(1, 0.0001, 10):\n",
    "    p = np.array([i, i, i])\n",
    "    print((f3(x + p) - f3(x) - np.dot(f3_gradient(x), p)) / np.linalg.norm(p))"
   ]
  },
  {
   "cell_type": "markdown",
   "source": [
    "## Benchmark"
   ],
   "metadata": {
    "id": "hdqnG0Xubwzn"
   },
   "id": "hdqnG0Xubwzn"
  },
  {
   "cell_type": "markdown",
   "id": "b4af715b",
   "metadata": {
    "id": "b4af715b"
   },
   "source": [
    "# The Attractive-Sector Function"
   ]
  },
  {
   "cell_type": "code",
   "execution_count": null,
   "id": "b310d380",
   "metadata": {
    "id": "b310d380"
   },
   "outputs": [],
   "source": [
    "def _h(x, q=10 ** 4):\n",
    "    \"\"\"Helper function for f4 \"\"\"\n",
    "    return np.log(1 + np.exp(q * x)) // q\n",
    "\n",
    "\n",
    "def h(x, q=10 ** 4):\n",
    "    \"\"\"Helper function for f4\"\"\"\n",
    "    return (np.log(1 + np.exp(-np.abs(q * x))) + np.maximum(0, q * x)) / q\n",
    "\n",
    "\n",
    "def f4(x):\n",
    "    \"\"\"The Attractive-Sector Function\"\"\"\n",
    "    result = 0\n",
    "    d = len(x)\n",
    "    for i in range(1, 1 + d):\n",
    "        result += h(x[i - 1]) ** 2 + 100 * h(-x[i - 1]) ** 2\n",
    "    return result\n",
    "\n",
    "\n",
    "def f4_gradient(x):  # Works only for a small domain - x in [-0.05, 0.05]\n",
    "    return nd.Gradient(f4)(x)\n",
    "\n",
    "\n",
    "def f4_hessian(x):  # Works only for a very small domain\n",
    "    return nd.Hessian(f4)(x)"
   ]
  },
  {
   "cell_type": "code",
   "source": [
    "f4([-0.5])"
   ],
   "metadata": {
    "colab": {
     "base_uri": "https://localhost:8080/"
    },
    "id": "2yq2HWHmeIgS",
    "executionInfo": {
     "status": "ok",
     "timestamp": 1645013957004,
     "user_tz": -60,
     "elapsed": 251,
     "user": {
      "displayName": "Yihe Zhang",
      "photoUrl": "https://lh3.googleusercontent.com/a-/AOh14Gh7f3eAfi5531JWbdXKEH7pb2Y7oiPEMF8aoWdsRQ=s64",
      "userId": "02644340796652609725"
     }
    },
    "outputId": "9a11d5f1-4629-41d0-e031-eb9b2b8454ec"
   },
   "id": "2yq2HWHmeIgS",
   "execution_count": 80,
   "outputs": [
    {
     "output_type": "execute_result",
     "data": {
      "text/plain": [
       "25.0"
      ]
     },
     "metadata": {},
     "execution_count": 80
    }
   ]
  },
  {
   "cell_type": "code",
   "execution_count": null,
   "id": "783a7594",
   "metadata": {
    "colab": {
     "base_uri": "https://localhost:8080/"
    },
    "id": "783a7594",
    "executionInfo": {
     "status": "ok",
     "timestamp": 1645006017410,
     "user_tz": -60,
     "elapsed": 5,
     "user": {
      "displayName": "Yihe Zhang",
      "photoUrl": "https://lh3.googleusercontent.com/a-/AOh14Gh7f3eAfi5531JWbdXKEH7pb2Y7oiPEMF8aoWdsRQ=s64",
      "userId": "02644340796652609725"
     }
    },
    "outputId": "9029e204-b5c5-416a-f618-46e67b88c33a"
   },
   "outputs": [
    {
     "output_type": "stream",
     "name": "stdout",
     "text": [
      "1.7320508075688774\n",
      "1.5396199628479748\n",
      "1.347189118127073\n",
      "1.1547582734061703\n",
      "0.9623274286852682\n",
      "0.7698965839643657\n",
      "0.5774657392434633\n",
      "0.38503489452256123\n",
      "0.19260404980165893\n",
      "0.0001732050807560156\n"
     ]
    }
   ],
   "source": [
    "x = np.array([0.05, 0.03, 0.02])\n",
    "for i in np.linspace(1, 0.0001, 10):\n",
    "    p = np.array([i, i, i])\n",
    "    print((f4(x + p) - f4(x) - np.dot(f4_gradient(x), p)) / np.linalg.norm(p))"
   ]
  },
  {
   "cell_type": "markdown",
   "source": [
    "## Benchmark"
   ],
   "metadata": {
    "id": "w6MC0buFcjEo"
   },
   "id": "w6MC0buFcjEo"
  },
  {
   "cell_type": "markdown",
   "id": "de7c4c1b",
   "metadata": {
    "id": "de7c4c1b"
   },
   "source": [
    "# The Sum of Different Powers Function"
   ]
  },
  {
   "cell_type": "code",
   "execution_count": 14,
   "id": "304d482f",
   "metadata": {
    "id": "304d482f"
   },
   "outputs": [],
   "source": [
    "def f5(x):  # x list\n",
    "    \"\"\"The Sum of Different Powers Function\"\"\"\n",
    "    result = 0\n",
    "    for i in range(1, len(x) + 1):\n",
    "        exponent = 1 + ((i - 1) / (len(x) - 1))\n",
    "        result += (x[i - 1] ** 2) ** exponent\n",
    "    return result\n",
    "\n",
    "\n",
    "def f5_gradient(x):\n",
    "    return nd.Gradient(f5)(x)\n",
    "\n",
    "\n",
    "def f5_hessian(x):  # Works only for a very small domain\n",
    "    return nd.Hessian(f5)(x)\n"
   ]
  },
  {
   "cell_type": "code",
   "execution_count": 15,
   "id": "d35efd7a",
   "metadata": {
    "scrolled": true,
    "colab": {
     "base_uri": "https://localhost:8080/"
    },
    "id": "d35efd7a",
    "executionInfo": {
     "status": "ok",
     "timestamp": 1645006017871,
     "user_tz": -60,
     "elapsed": 7,
     "user": {
      "displayName": "Yihe Zhang",
      "photoUrl": "https://lh3.googleusercontent.com/a-/AOh14Gh7f3eAfi5531JWbdXKEH7pb2Y7oiPEMF8aoWdsRQ=s64",
      "userId": "02644340796652609725"
     }
    },
    "outputId": "127b6032-17c7-4468-e318-de519b676c7d"
   },
   "outputs": [
    {
     "name": "stdout",
     "output_type": "stream",
     "text": [
      "43.30127018922202\n",
      "37.64157479934459\n",
      "32.20517236053076\n",
      "26.987312444126662\n",
      "21.983244621478644\n",
      "17.18821846393288\n",
      "12.597483542835757\n",
      "8.206289429533214\n",
      "4.009885695372325\n",
      "0.0035219118418452788\n",
      "0.0\n"
     ]
    }
   ],
   "source": [
    "x = np.array([1, 2, 3])\n",
    "for i in np.linspace(1, 0.0001, 10):\n",
    "    p = np.array([i, i, i])\n",
    "    print((f5(x + p) - f5(x) - np.dot(f5_gradient(x), p)) / np.linalg.norm(p))"
   ]
  },
  {
   "cell_type": "code",
   "execution_count": null,
   "id": "15afd5ee",
   "metadata": {
    "colab": {
     "base_uri": "https://localhost:8080/"
    },
    "id": "15afd5ee",
    "executionInfo": {
     "status": "ok",
     "timestamp": 1645006018252,
     "user_tz": -60,
     "elapsed": 385,
     "user": {
      "displayName": "Yihe Zhang",
      "photoUrl": "https://lh3.googleusercontent.com/a-/AOh14Gh7f3eAfi5531JWbdXKEH7pb2Y7oiPEMF8aoWdsRQ=s64",
      "userId": "02644340796652609725"
     }
    },
    "outputId": "c6bc4f27-71c5-4eea-a960-d1a32a44ae12"
   },
   "outputs": [
    {
     "output_type": "stream",
     "name": "stdout",
     "text": [
      "0.002078484871516532\n",
      "0.0018706353205714598\n",
      "0.0016627855257770811\n",
      "0.001454933390063774\n",
      "0.0012470867680435644\n",
      "0.0010392394505890502\n",
      "0.000831390505892463\n",
      "0.0006235451438790073\n",
      "0.00041570053395762466\n",
      "0.00020784908682305997\n"
     ]
    }
   ],
   "source": [
    "x = np.array([1, 2, 3])\n",
    "for i in np.linspace(0.0001, 0.00001, 10):\n",
    "    p = np.array([i, i, i])\n",
    "    print((f5_gradient(x + p)[2] - f5_gradient(x)[2] - np.dot(f5_hessian(x)[:][2], p)) / np.linalg.norm(p))"
   ]
  },
  {
   "cell_type": "markdown",
   "source": [
    "# Benchmark"
   ],
   "metadata": {
    "id": "VO-H08Av_Ma0"
   },
   "id": "VO-H08Av_Ma0"
  },
  {
   "cell_type": "code",
   "execution_count": null,
   "outputs": [],
   "source": [
    "randnums = np.random.randint(-20, 20, size=(5, 2))\n",
    "randnums"
   ],
   "metadata": {
    "collapsed": false,
    "pycharm": {
     "name": "#%%\n"
    }
   }
  },
  {
   "cell_type": "code",
   "source": [
    "def test(f, x):\n",
    "    iterations = []\n",
    "    num_fun_eval = []\n",
    "    num_jab_eval = []\n",
    "    results = []\n",
    "    convergence = []\n",
    "    t = []\n",
    "\n",
    "    if f == f2:\n",
    "        minimum = [1, 1]\n",
    "    else:\n",
    "        minimum = [0, 0]\n",
    "\n",
    "    def callback(b):\n",
    "        convergence.append(np.linalg.norm(b - minimum))\n",
    "\n",
    "    for i, num in enumerate(randnums):\n",
    "        t1 = time.time_ns()\n",
    "        if i == 0:\n",
    "            output = optimize.minimize(f, num, method=x, callback=callback)\n",
    "        else:\n",
    "            output = optimize.minimize(f, num, method=x)\n",
    "        t2 = time.time_ns()\n",
    "        t.append(t2 - t1)\n",
    "\n",
    "        iterations.append(output.get(\"nit\"))\n",
    "        num_fun_eval.append(output.get(\"nfev\"))\n",
    "        if output.get(\"njev\") != None:\n",
    "            num_jab_eval.append(output.get(\"njev\"))\n",
    "        else:\n",
    "            num_jab_eval.append(0)\n",
    "        results.append(output.get(\"x\"))\n",
    "\n",
    "    iterations_avg = sum(iterations) / len(iterations)\n",
    "    num_fun_eval_avg = sum(num_fun_eval) / len(num_fun_eval)\n",
    "    num_jab_eval_avg = sum(num_jab_eval) / len(num_jab_eval)\n",
    "    results_avg = sum(results) / len(results)\n",
    "\n",
    "    plt.plot(convergence)\n",
    "\n",
    "    print(\"iteration avg:\", iterations_avg)\n",
    "    print(\"Number of evaluations of Function avg:\", num_fun_eval)\n",
    "    print(\"Number of evaluations of Jacobian avg:\", num_jab_eval)\n",
    "    print(\"Resutls avg:\", results_avg)\n",
    "    print(\"Time avg:\", np.average(t))"
   ],
   "metadata": {
    "id": "NmEUg0EcZ7Je",
    "executionInfo": {
     "status": "ok",
     "timestamp": 1645024304000,
     "user_tz": -60,
     "elapsed": 3,
     "user": {
      "displayName": "Yihe Zhang",
      "photoUrl": "https://lh3.googleusercontent.com/a-/AOh14Gh7f3eAfi5531JWbdXKEH7pb2Y7oiPEMF8aoWdsRQ=s64",
      "userId": "02644340796652609725"
     }
    }
   },
   "execution_count": 191,
   "outputs": [],
   "id": "NmEUg0EcZ7Je"
  },
  {
   "cell_type": "markdown",
   "source": [
    "## f1"
   ],
   "metadata": {
    "id": "s_ll4YIY_jBB"
   },
   "id": "s_ll4YIY_jBB"
  },
  {
   "cell_type": "code",
   "source": [
    "test(f1, 'Nelder-Mead')"
   ],
   "metadata": {
    "colab": {
     "base_uri": "https://localhost:8080/",
     "height": 0
    },
    "id": "d1FlvW2eiq0N",
    "executionInfo": {
     "status": "ok",
     "timestamp": 1645024304472,
     "user_tz": -60,
     "elapsed": 474,
     "user": {
      "displayName": "Yihe Zhang",
      "photoUrl": "https://lh3.googleusercontent.com/a-/AOh14Gh7f3eAfi5531JWbdXKEH7pb2Y7oiPEMF8aoWdsRQ=s64",
      "userId": "02644340796652609725"
     }
    },
    "outputId": "02689747-89d3-496f-e090-2c564fa58eae"
   },
   "execution_count": 192,
   "outputs": [
    {
     "output_type": "stream",
     "name": "stdout",
     "text": [
      "iteration avg: 66.6\n",
      "Number of evaluations of Function avg: [121, 129, 121, 128, 135]\n",
      "Number of evaluations of Jacobian avg: [0, 0, 0, 0, 0]\n",
      "Resutls avg: [2.31877501e-05 5.42423175e-07]\n",
      "Time avg: 4280288.4\n"
     ]
    },
    {
     "output_type": "display_data",
     "data": {
      "image/png": "[encoded data removed]",
      "text/plain": [
       "<Figure size 432x288 with 1 Axes>"
      ]
     },
     "metadata": {
      "needs_background": "light"
     }
    }
   ],
   "id": "d1FlvW2eiq0N"
  },
  {
   "cell_type": "code",
   "source": [
    "test(f1, 'Powell')"
   ],
   "metadata": {
    "colab": {
     "base_uri": "https://localhost:8080/",
     "height": 0
    },
    "id": "B8j6jJ7I6Sav",
    "executionInfo": {
     "status": "ok",
     "timestamp": 1645024304883,
     "user_tz": -60,
     "elapsed": 413,
     "user": {
      "displayName": "Yihe Zhang",
      "photoUrl": "https://lh3.googleusercontent.com/a-/AOh14Gh7f3eAfi5531JWbdXKEH7pb2Y7oiPEMF8aoWdsRQ=s64",
      "userId": "02644340796652609725"
     }
    },
    "outputId": "07af2486-c014-48ff-851b-5d542eddeafa"
   },
   "execution_count": 193,
   "outputs": [
    {
     "output_type": "stream",
     "name": "stdout",
     "text": [
      "iteration avg: 2.0\n",
      "Number of evaluations of Function avg: [38, 38, 38, 38, 38]\n",
      "Number of evaluations of Jacobian avg: [0, 0, 0, 0, 0]\n",
      "Resutls avg: [6.89489498e-13 8.34887715e-15]\n",
      "Time avg: 1401099.0\n"
     ]
    },
    {
     "output_type": "display_data",
     "data": {
      "image/png": "[encoded data removed]",
      "text/plain": [
       "<Figure size 432x288 with 1 Axes>"
      ]
     },
     "metadata": {
      "needs_background": "light"
     }
    }
   ],
   "id": "B8j6jJ7I6Sav"
  },
  {
   "cell_type": "code",
   "source": [
    "test(f1, 'BFGS')"
   ],
   "metadata": {
    "id": "Fo8MYRTk-5Dx",
    "colab": {
     "base_uri": "https://localhost:8080/",
     "height": 0
    },
    "executionInfo": {
     "status": "ok",
     "timestamp": 1645024305198,
     "user_tz": -60,
     "elapsed": 318,
     "user": {
      "displayName": "Yihe Zhang",
      "photoUrl": "https://lh3.googleusercontent.com/a-/AOh14Gh7f3eAfi5531JWbdXKEH7pb2Y7oiPEMF8aoWdsRQ=s64",
      "userId": "02644340796652609725"
     }
    },
    "outputId": "4c44659d-e7ee-440b-c10d-f8f4e7a116a2"
   },
   "execution_count": 194,
   "outputs": [
    {
     "output_type": "stream",
     "name": "stdout",
     "text": [
      "iteration avg: 5.8\n",
      "Number of evaluations of Function avg: [36, 32, 28, 32, 32]\n",
      "Number of evaluations of Jacobian avg: [9, 8, 7, 8, 8]\n",
      "Resutls avg: [-8.59143706e-09 -7.98330319e-09]\n",
      "Time avg: 1302399.4\n"
     ]
    },
    {
     "output_type": "display_data",
     "data": {
      "image/png": "[encoded data removed]",
      "text/plain": [
       "<Figure size 432x288 with 1 Axes>"
      ]
     },
     "metadata": {
      "needs_background": "light"
     }
    }
   ],
   "id": "Fo8MYRTk-5Dx"
  },
  {
   "cell_type": "markdown",
   "source": [
    "## f2"
   ],
   "metadata": {
    "id": "tZ63FSDA_lAT"
   },
   "id": "tZ63FSDA_lAT"
  },
  {
   "cell_type": "code",
   "source": [
    "test(f2, 'Nelder-Mead')"
   ],
   "metadata": {
    "colab": {
     "base_uri": "https://localhost:8080/",
     "height": 0
    },
    "id": "zfSk27l5_mfl",
    "executionInfo": {
     "status": "ok",
     "timestamp": 1645024305199,
     "user_tz": -60,
     "elapsed": 5,
     "user": {
      "displayName": "Yihe Zhang",
      "photoUrl": "https://lh3.googleusercontent.com/a-/AOh14Gh7f3eAfi5531JWbdXKEH7pb2Y7oiPEMF8aoWdsRQ=s64",
      "userId": "02644340796652609725"
     }
    },
    "outputId": "a3e1f1ea-7699-406a-dd2a-fe3fe7bfffa6"
   },
   "id": "zfSk27l5_mfl",
   "execution_count": 195,
   "outputs": [
    {
     "output_type": "stream",
     "name": "stdout",
     "text": [
      "iteration avg: 131.8\n",
      "Number of evaluations of Function avg: [322, 184, 172, 336, 187]\n",
      "Number of evaluations of Jacobian avg: [0, 0, 0, 0, 0]\n",
      "Resutls avg: [1.00001174 1.0000245 ]\n",
      "Time avg: 7884456.6\n"
     ]
    },
    {
     "output_type": "display_data",
     "data": {
      "image/png": "[encoded data removed]",
      "text/plain": [
       "<Figure size 432x288 with 1 Axes>"
      ]
     },
     "metadata": {
      "needs_background": "light"
     }
    }
   ]
  },
  {
   "cell_type": "code",
   "source": [
    "test(f2, 'Powell')"
   ],
   "metadata": {
    "colab": {
     "base_uri": "https://localhost:8080/",
     "height": 0
    },
    "id": "2I4RmQaA_q14",
    "executionInfo": {
     "status": "ok",
     "timestamp": 1645024305475,
     "user_tz": -60,
     "elapsed": 279,
     "user": {
      "displayName": "Yihe Zhang",
      "photoUrl": "https://lh3.googleusercontent.com/a-/AOh14Gh7f3eAfi5531JWbdXKEH7pb2Y7oiPEMF8aoWdsRQ=s64",
      "userId": "02644340796652609725"
     }
    },
    "outputId": "90a6e648-24f0-4bb4-e670-25bfa76d3255"
   },
   "id": "2I4RmQaA_q14",
   "execution_count": 196,
   "outputs": [
    {
     "output_type": "stream",
     "name": "stdout",
     "text": [
      "iteration avg: 23.4\n",
      "Number of evaluations of Function avg: [613, 549, 410, 1123, 731]\n",
      "Number of evaluations of Jacobian avg: [0, 0, 0, 0, 0]\n",
      "Resutls avg: [1. 1.]\n",
      "Time avg: 12140020.8\n"
     ]
    },
    {
     "output_type": "display_data",
     "data": {
      "image/png": "[encoded data removed]",
      "text/plain": [
       "<Figure size 432x288 with 1 Axes>"
      ]
     },
     "metadata": {
      "needs_background": "light"
     }
    }
   ]
  },
  {
   "cell_type": "code",
   "source": [
    "test(f2, 'BFGS')"
   ],
   "metadata": {
    "colab": {
     "base_uri": "https://localhost:8080/",
     "height": 0
    },
    "id": "rVlWUsai_urC",
    "executionInfo": {
     "status": "ok",
     "timestamp": 1645024305771,
     "user_tz": -60,
     "elapsed": 299,
     "user": {
      "displayName": "Yihe Zhang",
      "photoUrl": "https://lh3.googleusercontent.com/a-/AOh14Gh7f3eAfi5531JWbdXKEH7pb2Y7oiPEMF8aoWdsRQ=s64",
      "userId": "02644340796652609725"
     }
    },
    "outputId": "26da6e39-f3d5-468b-df47-6edc2e758fed"
   },
   "id": "rVlWUsai_urC",
   "execution_count": 197,
   "outputs": [
    {
     "output_type": "stream",
     "name": "stdout",
     "text": [
      "iteration avg: 81.0\n",
      "Number of evaluations of Function avg: [688, 260, 316, 652, 200]\n",
      "Number of evaluations of Jacobian avg: [172, 65, 79, 163, 50]\n",
      "Resutls avg: [0.99999552 0.99999102]\n",
      "Time avg: 12722804.4\n"
     ]
    },
    {
     "output_type": "display_data",
     "data": {
      "image/png": "[encoded data removed]",
      "text/plain": [
       "<Figure size 432x288 with 1 Axes>"
      ]
     },
     "metadata": {
      "needs_background": "light"
     }
    }
   ]
  },
  {
   "cell_type": "markdown",
   "source": [
    "## f3"
   ],
   "metadata": {
    "id": "XCM0rzTj_wF9"
   },
   "id": "XCM0rzTj_wF9"
  },
  {
   "cell_type": "code",
   "source": [
    "test(f3, 'Nelder-Mead')"
   ],
   "metadata": {
    "colab": {
     "base_uri": "https://localhost:8080/",
     "height": 0
    },
    "id": "GV1rYxsV_4IB",
    "executionInfo": {
     "status": "ok",
     "timestamp": 1645024305772,
     "user_tz": -60,
     "elapsed": 5,
     "user": {
      "displayName": "Yihe Zhang",
      "photoUrl": "https://lh3.googleusercontent.com/a-/AOh14Gh7f3eAfi5531JWbdXKEH7pb2Y7oiPEMF8aoWdsRQ=s64",
      "userId": "02644340796652609725"
     }
    },
    "outputId": "5df24c71-4615-4481-aadc-a7b3c8087f22"
   },
   "id": "GV1rYxsV_4IB",
   "execution_count": 198,
   "outputs": [
    {
     "output_type": "stream",
     "name": "stdout",
     "text": [
      "iteration avg: 67.6\n",
      "Number of evaluations of Function avg: [121, 133, 123, 128, 138]\n",
      "Number of evaluations of Jacobian avg: [0, 0, 0, 0, 0]\n",
      "Resutls avg: [ 1.21585256e-05 -8.27335266e-07]\n",
      "Time avg: 4367975.0\n"
     ]
    },
    {
     "output_type": "display_data",
     "data": {
      "image/png": "[encoded data removed]",
      "text/plain": [
       "<Figure size 432x288 with 1 Axes>"
      ]
     },
     "metadata": {
      "needs_background": "light"
     }
    }
   ]
  },
  {
   "cell_type": "code",
   "source": [
    "test(f3, 'Powell')"
   ],
   "metadata": {
    "colab": {
     "base_uri": "https://localhost:8080/",
     "height": 0
    },
    "id": "pSFt2gko_5NS",
    "executionInfo": {
     "status": "ok",
     "timestamp": 1645024306157,
     "user_tz": -60,
     "elapsed": 389,
     "user": {
      "displayName": "Yihe Zhang",
      "photoUrl": "https://lh3.googleusercontent.com/a-/AOh14Gh7f3eAfi5531JWbdXKEH7pb2Y7oiPEMF8aoWdsRQ=s64",
      "userId": "02644340796652609725"
     }
    },
    "outputId": "c01d544e-050d-4e2d-a09a-576f6a715dc3"
   },
   "id": "pSFt2gko_5NS",
   "execution_count": 199,
   "outputs": [
    {
     "output_type": "stream",
     "name": "stdout",
     "text": [
      "iteration avg: 3.4\n",
      "Number of evaluations of Function avg: [91, 95, 130, 129, 108]\n",
      "Number of evaluations of Jacobian avg: [0, 0, 0, 0, 0]\n",
      "Resutls avg: [-2.59845988e-09 -6.10944810e-12]\n",
      "Time avg: 2944847.4\n"
     ]
    },
    {
     "output_type": "display_data",
     "data": {
      "image/png": "[encoded data removed]",
      "text/plain": [
       "<Figure size 432x288 with 1 Axes>"
      ]
     },
     "metadata": {
      "needs_background": "light"
     }
    }
   ]
  },
  {
   "cell_type": "code",
   "source": [
    "test(f3, 'BFGS')"
   ],
   "metadata": {
    "colab": {
     "base_uri": "https://localhost:8080/",
     "height": 0
    },
    "id": "DNk8Ye5k_5YD",
    "executionInfo": {
     "status": "ok",
     "timestamp": 1645024306635,
     "user_tz": -60,
     "elapsed": 480,
     "user": {
      "displayName": "Yihe Zhang",
      "photoUrl": "https://lh3.googleusercontent.com/a-/AOh14Gh7f3eAfi5531JWbdXKEH7pb2Y7oiPEMF8aoWdsRQ=s64",
      "userId": "02644340796652609725"
     }
    },
    "outputId": "6ec89cf0-3b07-4c31-dd2a-777d77751a95"
   },
   "id": "DNk8Ye5k_5YD",
   "execution_count": 200,
   "outputs": [
    {
     "output_type": "stream",
     "name": "stdout",
     "text": [
      "iteration avg: 11.4\n",
      "Number of evaluations of Function avg: [556, 444, 536, 544, 564]\n",
      "Number of evaluations of Jacobian avg: [136, 108, 131, 133, 138]\n",
      "Resutls avg: [-5.65824170e-09 -6.66533829e-09]\n",
      "Time avg: 14385323.2\n"
     ]
    },
    {
     "output_type": "display_data",
     "data": {
      "image/png": "[encoded data removed]",
      "text/plain": [
       "<Figure size 432x288 with 1 Axes>"
      ]
     },
     "metadata": {
      "needs_background": "light"
     }
    }
   ]
  },
  {
   "cell_type": "markdown",
   "source": [
    "## f4"
   ],
   "metadata": {
    "id": "xq-mcModAJIm"
   },
   "id": "xq-mcModAJIm"
  },
  {
   "cell_type": "code",
   "source": [
    "test(f4, 'Nelder-Mead')"
   ],
   "metadata": {
    "colab": {
     "base_uri": "https://localhost:8080/",
     "height": 354
    },
    "id": "WEmsHon0_8P7",
    "executionInfo": {
     "status": "ok",
     "timestamp": 1645024307055,
     "user_tz": -60,
     "elapsed": 423,
     "user": {
      "displayName": "Yihe Zhang",
      "photoUrl": "https://lh3.googleusercontent.com/a-/AOh14Gh7f3eAfi5531JWbdXKEH7pb2Y7oiPEMF8aoWdsRQ=s64",
      "userId": "02644340796652609725"
     }
    },
    "outputId": "a84865ba-62f7-45f8-ba66-4c3dca2a2cee"
   },
   "id": "WEmsHon0_8P7",
   "execution_count": 201,
   "outputs": [
    {
     "output_type": "stream",
     "name": "stdout",
     "text": [
      "iteration avg: 66.4\n",
      "Number of evaluations of Function avg: [135, 101, 121, 139, 126]\n",
      "Number of evaluations of Jacobian avg: [0, 0, 0, 0, 0]\n",
      "Resutls avg: [0.00019776 0.0001808 ]\n",
      "Time avg: 12495698.6\n"
     ]
    },
    {
     "output_type": "display_data",
     "data": {
      "image/png": "[encoded data removed]",
      "text/plain": [
       "<Figure size 432x288 with 1 Axes>"
      ]
     },
     "metadata": {
      "needs_background": "light"
     }
    }
   ]
  },
  {
   "cell_type": "code",
   "source": [
    "test(f4, 'Powell')"
   ],
   "metadata": {
    "colab": {
     "base_uri": "https://localhost:8080/",
     "height": 352
    },
    "id": "1UN3qqZK_8Z9",
    "executionInfo": {
     "status": "ok",
     "timestamp": 1645024307055,
     "user_tz": -60,
     "elapsed": 5,
     "user": {
      "displayName": "Yihe Zhang",
      "photoUrl": "https://lh3.googleusercontent.com/a-/AOh14Gh7f3eAfi5531JWbdXKEH7pb2Y7oiPEMF8aoWdsRQ=s64",
      "userId": "02644340796652609725"
     }
    },
    "outputId": "3671a4bf-4921-4a59-ffbd-f135dd3994f7"
   },
   "id": "1UN3qqZK_8Z9",
   "execution_count": 202,
   "outputs": [
    {
     "output_type": "stream",
     "name": "stdout",
     "text": [
      "iteration avg: 3.4\n",
      "Number of evaluations of Function avg: [153, 101, 101, 101, 101]\n",
      "Number of evaluations of Jacobian avg: [0, 0, 0, 0, 0]\n",
      "Resutls avg: [0.00019093 0.00019093]\n",
      "Time avg: 8076205.6\n"
     ]
    },
    {
     "output_type": "display_data",
     "data": {
      "image/png": "[encoded data removed]",
      "text/plain": [
       "<Figure size 432x288 with 1 Axes>"
      ]
     },
     "metadata": {
      "needs_background": "light"
     }
    }
   ]
  },
  {
   "cell_type": "code",
   "source": [
    "test(f4, 'BFGS')"
   ],
   "metadata": {
    "colab": {
     "base_uri": "https://localhost:8080/",
     "height": 352
    },
    "id": "vEB7f_pB_8gt",
    "executionInfo": {
     "status": "ok",
     "timestamp": 1645024307547,
     "user_tz": -60,
     "elapsed": 495,
     "user": {
      "displayName": "Yihe Zhang",
      "photoUrl": "https://lh3.googleusercontent.com/a-/AOh14Gh7f3eAfi5531JWbdXKEH7pb2Y7oiPEMF8aoWdsRQ=s64",
      "userId": "02644340796652609725"
     }
    },
    "outputId": "ed502ee9-4e4e-463c-a6ba-c68a17b6fe5b"
   },
   "id": "vEB7f_pB_8gt",
   "execution_count": 203,
   "outputs": [
    {
     "output_type": "stream",
     "name": "stdout",
     "text": [
      "iteration avg: 15.8\n",
      "Number of evaluations of Function avg: [144, 60, 60, 144, 64]\n",
      "Number of evaluations of Jacobian avg: [36, 15, 15, 36, 16]\n",
      "Resutls avg: [0.0001911  0.00019117]\n",
      "Time avg: 5390975.4\n"
     ]
    },
    {
     "output_type": "display_data",
     "data": {
      "image/png": "[encoded data removed]",
      "text/plain": [
       "<Figure size 432x288 with 1 Axes>"
      ]
     },
     "metadata": {
      "needs_background": "light"
     }
    }
   ]
  },
  {
   "cell_type": "markdown",
   "source": [
    "## f5"
   ],
   "metadata": {
    "id": "Y6vIecz5ALTJ"
   },
   "id": "Y6vIecz5ALTJ"
  },
  {
   "cell_type": "code",
   "source": [
    "test(f5, 'Nelder-Mead')"
   ],
   "metadata": {
    "colab": {
     "base_uri": "https://localhost:8080/",
     "height": 352
    },
    "id": "vzDCku1k_8tK",
    "executionInfo": {
     "status": "ok",
     "timestamp": 1645024307548,
     "user_tz": -60,
     "elapsed": 5,
     "user": {
      "displayName": "Yihe Zhang",
      "photoUrl": "https://lh3.googleusercontent.com/a-/AOh14Gh7f3eAfi5531JWbdXKEH7pb2Y7oiPEMF8aoWdsRQ=s64",
      "userId": "02644340796652609725"
     }
    },
    "outputId": "304ffd8b-10f8-4d27-a0b8-23c0a0d5f073"
   },
   "id": "vzDCku1k_8tK",
   "execution_count": 204,
   "outputs": [
    {
     "output_type": "stream",
     "name": "stdout",
     "text": [
      "iteration avg: 66.8\n",
      "Number of evaluations of Function avg: [138, 125, 116, 125, 124]\n",
      "Number of evaluations of Jacobian avg: [0, 0, 0, 0, 0]\n",
      "Resutls avg: [-1.13540883e-08 -2.32427218e-05]\n",
      "Time avg: 5782472.8\n"
     ]
    },
    {
     "output_type": "display_data",
     "data": {
      "image/png": "[encoded data removed]",
      "text/plain": [
       "<Figure size 432x288 with 1 Axes>"
      ]
     },
     "metadata": {
      "needs_background": "light"
     }
    }
   ]
  },
  {
   "cell_type": "code",
   "source": [
    "test(f5, 'Powell')"
   ],
   "metadata": {
    "colab": {
     "base_uri": "https://localhost:8080/",
     "height": 352
    },
    "id": "EhEkCxWt_82d",
    "executionInfo": {
     "status": "ok",
     "timestamp": 1645024307978,
     "user_tz": -60,
     "elapsed": 433,
     "user": {
      "displayName": "Yihe Zhang",
      "photoUrl": "https://lh3.googleusercontent.com/a-/AOh14Gh7f3eAfi5531JWbdXKEH7pb2Y7oiPEMF8aoWdsRQ=s64",
      "userId": "02644340796652609725"
     }
    },
    "outputId": "b186c5c0-c4bc-4542-d463-208c9fffe6ce"
   },
   "id": "EhEkCxWt_82d",
   "execution_count": 205,
   "outputs": [
    {
     "output_type": "stream",
     "name": "stdout",
     "text": [
      "iteration avg: 9.2\n",
      "Number of evaluations of Function avg: [147, 147, 145, 867, 169]\n",
      "Number of evaluations of Jacobian avg: [0, 0, 0, 0, 0]\n",
      "Resutls avg: [ 1.00906872e-12 -4.82668910e-07]\n",
      "Time avg: 4729768.2\n"
     ]
    },
    {
     "output_type": "display_data",
     "data": {
      "image/png": "[encoded data removed]",
      "text/plain": [
       "<Figure size 432x288 with 1 Axes>"
      ]
     },
     "metadata": {
      "needs_background": "light"
     }
    }
   ]
  },
  {
   "cell_type": "code",
   "source": [
    "test(f5, 'BFGS')"
   ],
   "metadata": {
    "colab": {
     "base_uri": "https://localhost:8080/",
     "height": 352
    },
    "id": "_hc0omic_9C2",
    "executionInfo": {
     "status": "ok",
     "timestamp": 1645024307978,
     "user_tz": -60,
     "elapsed": 6,
     "user": {
      "displayName": "Yihe Zhang",
      "photoUrl": "https://lh3.googleusercontent.com/a-/AOh14Gh7f3eAfi5531JWbdXKEH7pb2Y7oiPEMF8aoWdsRQ=s64",
      "userId": "02644340796652609725"
     }
    },
    "outputId": "c6a60a28-917f-4543-efc3-f8592a4ac604"
   },
   "id": "_hc0omic_9C2",
   "execution_count": 206,
   "outputs": [
    {
     "output_type": "stream",
     "name": "stdout",
     "text": [
      "iteration avg: 23.6\n",
      "Number of evaluations of Function avg: [100, 92, 88, 108, 104]\n",
      "Number of evaluations of Jacobian avg: [25, 23, 22, 27, 26]\n",
      "Resutls avg: [-8.11256671e-09  1.16691571e-02]\n",
      "Time avg: 4495176.2\n"
     ]
    },
    {
     "output_type": "display_data",
     "data": {
      "image/png": "[encoded data removed]",
      "text/plain": [
       "<Figure size 432x288 with 1 Axes>"
      ]
     },
     "metadata": {
      "needs_background": "light"
     }
    }
   ]
  }
 ],
 "metadata": {
  "kernelspec": {
   "display_name": "Python 3 (ipykernel)",
   "language": "python",
   "name": "python3"
  },
  "language_info": {
   "codemirror_mode": {
    "name": "ipython",
    "version": 3
   },
   "file_extension": ".py",
   "mimetype": "text/x-python",
   "name": "python",
   "nbconvert_exporter": "python",
   "pygments_lexer": "ipython3",
   "version": "3.9.1"
  },
  "colab": {
   "name": "Week2.ipynb",
   "provenance": []
  }
 },
 "nbformat": 4,
 "nbformat_minor": 5
}